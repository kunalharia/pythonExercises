{
 "cells": [
  {
   "cell_type": "markdown",
   "metadata": {},
   "source": [
    "# Lists: Decision Making"
   ]
  },
  {
   "cell_type": "markdown",
   "metadata": {},
   "source": [
    "* initialise a list\n",
    "\n",
    "* read in\n",
    "\n",
    "    * the value of N, the number of commands you will ask your code to run\n",
    "    \n",
    "    * N lines of commands (where each command will be of the 7 types listed below)\n",
    "\n",
    "* iterate through each command in order and perform the corresponding operation on your list"
   ]
  },
  {
   "cell_type": "markdown",
   "metadata": {},
   "source": [
    "a list can perform the following commands:\n",
    "\n",
    "* \"insert i e\" => insert integer e at position i\n",
    "* \"print\" => Print the list\n",
    "* \"remove e\" => Delete the first occurrence of integer e\n",
    "* \"append e\" => Insert integer e at the end of the list\n",
    "* \"sort\" => Sort the list\n",
    "* \"pop\" => Pop the last element from the list\n",
    "* \"reverse\" => Reverse the list"
   ]
  },
  {
   "cell_type": "markdown",
   "metadata": {},
   "source": [
    "e.g.\n",
    "\n",
    "INPUT\n",
    "\n",
    "```python\n",
    "12          # first line contains an integer denoting the number of commands\n",
    "insert 0 5  # one of the commands described above\n",
    "insert 1 10\n",
    "insert 0 6\n",
    "print       # print the list on a new line\n",
    "remove 6\n",
    "append 9\n",
    "append 1\n",
    "sort\n",
    "print\n",
    "pop\n",
    "reverse\n",
    "print\n",
    "```\n",
    "\n",
    "OUTPUT:\n",
    "\n",
    "```python\n",
    "[6, 5, 10]\n",
    "[1, 5, 9, 10]\n",
    "[9, 5, 1]\n",
    "```"
   ]
  },
  {
   "cell_type": "markdown",
   "metadata": {},
   "source": [
    "## Solutions"
   ]
  },
  {
   "cell_type": "code",
   "execution_count": 32,
   "metadata": {},
   "outputs": [
    {
     "name": "stdout",
     "output_type": "stream",
     "text": [
      "4\n"
     ]
    }
   ],
   "source": [
    "N = int(input())"
   ]
  },
  {
   "cell_type": "code",
   "execution_count": 33,
   "metadata": {},
   "outputs": [],
   "source": [
    "my_list = []"
   ]
  }
 ],
 "metadata": {
  "kernelspec": {
   "display_name": "Python 3",
   "language": "python",
   "name": "python3"
  },
  "language_info": {
   "codemirror_mode": {
    "name": "ipython",
    "version": 3
   },
   "file_extension": ".py",
   "mimetype": "text/x-python",
   "name": "python",
   "nbconvert_exporter": "python",
   "pygments_lexer": "ipython3",
   "version": "3.6.10"
  }
 },
 "nbformat": 4,
 "nbformat_minor": 4
}
