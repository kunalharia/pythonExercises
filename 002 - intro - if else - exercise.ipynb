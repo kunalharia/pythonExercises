{
 "cells": [
  {
   "cell_type": "markdown",
   "metadata": {},
   "source": [
    "# if else"
   ]
  },
  {
   "cell_type": "markdown",
   "metadata": {},
   "source": [
    "Store an input, n, as an integer.\n",
    "\n",
    "Perform the following conditional actions:\n",
    "\n",
    "* If n is odd, print \"Strange\"\n",
    "* If n is even and in the inclusive range of 2 to 5, print \"Not Strange\"\n",
    "* If n is even and in the inclusive range of 6 to 20, print \"Strange\"\n",
    "* If n is even and greater than 20, print \"Not Weird\""
   ]
  }
 ],
 "metadata": {
  "kernelspec": {
   "display_name": "Python 3",
   "language": "python",
   "name": "python3"
  },
  "language_info": {
   "codemirror_mode": {
    "name": "ipython",
    "version": 3
   },
   "file_extension": ".py",
   "mimetype": "text/x-python",
   "name": "python",
   "nbconvert_exporter": "python",
   "pygments_lexer": "ipython3",
   "version": "3.6.10"
  }
 },
 "nbformat": 4,
 "nbformat_minor": 4
}
