{
 "cells": [
  {
   "cell_type": "markdown",
   "metadata": {},
   "source": [
    "# Write a function"
   ]
  },
  {
   "cell_type": "markdown",
   "metadata": {},
   "source": [
    "A leap year contains a leap day.\n",
    "\n",
    "leap day = extra day that is added to the calendar almost every four years = \"29th February\"\n",
    "\n",
    "It corrects the calendar for the fact that our planet takes approximately 365.25 days to orbit the sun. "
   ]
  },
  {
   "cell_type": "markdown",
   "metadata": {},
   "source": [
    "In the Gregorian calendar, three conditions are used to identify leap years:\n",
    "\n",
    "* The year can be evenly divided by 4, is a leap year, unless:\n",
    "    * The year can be evenly divided by 100, it is NOT a leap year, unless:\n",
    "        * The year is also evenly divisible by 400. Then it is a leap year.\n",
    "\n",
    "This means that in the Gregorian calendar, the years 2000 and 2400 are leap years, while 1800, 1900, 2100, 2200, 2300 and 2500 are NOT leap years"
   ]
  },
  {
   "cell_type": "markdown",
   "metadata": {},
   "source": [
    "create a \"is_leap\" function\n",
    "\n",
    "* given a year, determine whether it is a leap year\n",
    "    * If it is a leap year, return the Boolean True, \n",
    "    * otherwise return False."
   ]
  },
  {
   "cell_type": "markdown",
   "metadata": {},
   "source": [
    "```python\n",
    "\n",
    "def is_leap(year):\n",
    "    leap = False\n",
    "    \n",
    "    # Write your logic here\n",
    "    \n",
    "    return leap\n",
    "\n",
    "year = int(input())\n",
    "print(is_leap(year))\n",
    "\n",
    "```"
   ]
  }
 ],
 "metadata": {
  "kernelspec": {
   "display_name": "Python 3",
   "language": "python",
   "name": "python3"
  },
  "language_info": {
   "codemirror_mode": {
    "name": "ipython",
    "version": 3
   },
   "file_extension": ".py",
   "mimetype": "text/x-python",
   "name": "python",
   "nbconvert_exporter": "python",
   "pygments_lexer": "ipython3",
   "version": "3.6.10"
  }
 },
 "nbformat": 4,
 "nbformat_minor": 4
}
