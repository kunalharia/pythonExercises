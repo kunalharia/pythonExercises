{
 "cells": [
  {
   "cell_type": "markdown",
   "metadata": {},
   "source": [
    "# Nested Lists"
   ]
  },
  {
   "cell_type": "markdown",
   "metadata": {},
   "source": [
    "Given a class of N students\n",
    "\n",
    "* store the names and grades for each student in a nested list\n",
    "\n",
    "* print the name(s) of any student(s) having the second lowest grade\n",
    "\n",
    "    * if there are multiple students with the second lowest grade, order their names alphabetically and print each name on a new line\n",
    "    \n",
    "    * NB: there will always be one or more students having the second lowest grade"
   ]
  },
  {
   "cell_type": "markdown",
   "metadata": {},
   "source": [
    "e.g.\n",
    "\n",
    "INPUT:\n",
    "\n",
    "```python\n",
    "5     # i.e. N = number of students\n",
    "Alpha # describe each student over 2N lines\n",
    "37.21\n",
    "Beta # - The first line contains a student's name\n",
    "37.21 # - The second line contains their grade\n",
    "Kal\n",
    "37.2\n",
    "Zor\n",
    "41\n",
    "Jor\n",
    "39\n",
    "```\n",
    "\n",
    "OUTPUT:\n",
    "\n",
    "```python\n",
    "Alpha\n",
    "Beta\n",
    "```"
   ]
  },
  {
   "cell_type": "markdown",
   "metadata": {},
   "source": [
    "HINT: to read in input:\n",
    "\n",
    "```python\n",
    "for _ in range(int(input())):\n",
    "    name = input()\n",
    "    score = float(input())\n",
    "        \n",
    "```"
   ]
  }
 ],
 "metadata": {
  "kernelspec": {
   "display_name": "Python 3",
   "language": "python",
   "name": "python3"
  },
  "language_info": {
   "codemirror_mode": {
    "name": "ipython",
    "version": 3
   },
   "file_extension": ".py",
   "mimetype": "text/x-python",
   "name": "python",
   "nbconvert_exporter": "python",
   "pygments_lexer": "ipython3",
   "version": "3.6.10"
  }
 },
 "nbformat": 4,
 "nbformat_minor": 4
}
