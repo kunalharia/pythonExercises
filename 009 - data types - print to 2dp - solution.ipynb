{
 "cells": [
  {
   "cell_type": "markdown",
   "metadata": {},
   "source": [
    "# Print to 2 dp"
   ]
  },
  {
   "cell_type": "markdown",
   "metadata": {},
   "source": [
    "Read in a dictionary containing key/value pairs of name:marks for a list of students"
   ]
  },
  {
   "cell_type": "markdown",
   "metadata": {},
   "source": [
    "Initial Input: number of students' records\n",
    "\n",
    "e.g. \n",
    "\n",
    "```python\n",
    "3 \n",
    "```"
   ]
  },
  {
   "cell_type": "code",
   "execution_count": 9,
   "metadata": {
    "scrolled": true
   },
   "outputs": [
    {
     "name": "stdout",
     "output_type": "stream",
     "text": [
      "3\n"
     ]
    }
   ],
   "source": [
    "n = int(input()) # number of students' records"
   ]
  },
  {
   "cell_type": "markdown",
   "metadata": {},
   "source": [
    "Input student details: names and marks\n",
    "\n",
    "* **each value separated by a space**\n",
    "\n",
    "e.g. \n",
    "\n",
    "```python\n",
    "Alpha 67 68 69\n",
    "Beta 70 98 63\n",
    "Gamma 52 56 60 \n",
    "```"
   ]
  },
  {
   "cell_type": "code",
   "execution_count": 10,
   "metadata": {},
   "outputs": [
    {
     "name": "stdout",
     "output_type": "stream",
     "text": [
      "Alpha 67 68 69\n",
      "Beta 70 98 63\n",
      "Gamma 52 56 60 \n"
     ]
    }
   ],
   "source": [
    "student_marks = {} # names and marks obtained by a student, each value separated by a space\n",
    "for _ in range(n):\n",
    "    name, *line = input().split()\n",
    "    scores = list(map(float, line))\n",
    "    student_marks[name] = scores"
   ]
  },
  {
   "cell_type": "markdown",
   "metadata": {},
   "source": [
    "Provide a student name of interest\n",
    "\n",
    "e.g.\n",
    "\n",
    "```python\n",
    "Gamma\n",
    "```"
   ]
  },
  {
   "cell_type": "code",
   "execution_count": 11,
   "metadata": {},
   "outputs": [
    {
     "name": "stdout",
     "output_type": "stream",
     "text": [
      "Gamma\n"
     ]
    }
   ],
   "source": [
    "query_name = input() # name of a student to query"
   ]
  },
  {
   "cell_type": "markdown",
   "metadata": {},
   "source": [
    "# Task"
   ]
  },
  {
   "cell_type": "markdown",
   "metadata": {},
   "source": [
    "Print the average marks for the student name provided\n",
    "\n",
    "* to 2 deciaml places"
   ]
  },
  {
   "cell_type": "markdown",
   "metadata": {},
   "source": [
    "## Solution"
   ]
  },
  {
   "cell_type": "code",
   "execution_count": 18,
   "metadata": {},
   "outputs": [
    {
     "name": "stdout",
     "output_type": "stream",
     "text": [
      "56.00\n"
     ]
    }
   ],
   "source": [
    "import statistics\n",
    "print(\"%.2f\" % statistics.mean(student_marks[query_name]))"
   ]
  },
  {
   "cell_type": "code",
   "execution_count": 19,
   "metadata": {},
   "outputs": [
    {
     "name": "stdout",
     "output_type": "stream",
     "text": [
      "56.00\n"
     ]
    }
   ],
   "source": [
    "a,b,c = student_marks[query_name]\n",
    "print('%.2f'%((a+b+c)/3))"
   ]
  },
  {
   "cell_type": "code",
   "execution_count": 21,
   "metadata": {},
   "outputs": [
    {
     "name": "stdout",
     "output_type": "stream",
     "text": [
      "56.00\n"
     ]
    }
   ],
   "source": [
    "print('%.2f'%(sum(student_marks[query_name])/3))"
   ]
  }
 ],
 "metadata": {
  "kernelspec": {
   "display_name": "Python 3",
   "language": "python",
   "name": "python3"
  },
  "language_info": {
   "codemirror_mode": {
    "name": "ipython",
    "version": 3
   },
   "file_extension": ".py",
   "mimetype": "text/x-python",
   "name": "python",
   "nbconvert_exporter": "python",
   "pygments_lexer": "ipython3",
   "version": "3.6.10"
  }
 },
 "nbformat": 4,
 "nbformat_minor": 4
}
