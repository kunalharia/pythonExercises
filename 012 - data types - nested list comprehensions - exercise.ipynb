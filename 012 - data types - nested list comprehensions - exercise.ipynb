{
 "cells": [
  {
   "cell_type": "markdown",
   "metadata": {},
   "source": [
    "# Nested List Comprehensions"
   ]
  },
  {
   "cell_type": "markdown",
   "metadata": {},
   "source": [
    "INPUT\n",
    "\n",
    "4 integers:\n",
    "\n",
    "* x dimension of cuboid\n",
    "* y dimension of cuboid\n",
    "* y dimension of cuboid\n",
    "* n integer\n",
    "\n",
    "e.g.\n",
    "\n",
    "```python\n",
    "1 # x dimension of cuboid\n",
    "1 # y dimension of cuboid\n",
    "1 # y dimension of cuboid\n",
    "2 # n integer\n",
    "```"
   ]
  },
  {
   "cell_type": "markdown",
   "metadata": {},
   "source": [
    "OUTPUT\n",
    "\n",
    "* print a list of all possible coordinates given by (i,j,k) on a 3D grid\n",
    "    * where\n",
    "        * $0 \\leq i \\leq x$\n",
    "        * $0 \\leq j \\leq y$\n",
    "        * $0 \\leq k \\leq z$\n",
    "        * $i+j+k \\neq n$\n",
    "\n",
    "e.g.\n",
    "\n",
    "```python\n",
    "[[0, 0, 0], [0, 0, 1], [0, 1, 0], [1, 0, 0], [1, 1, 1]]\n",
    "```"
   ]
  },
  {
   "cell_type": "markdown",
   "metadata": {},
   "source": [
    "e.g.\n",
    "\n",
    "INPUT\n",
    "\n",
    "```python\n",
    "2\n",
    "2\n",
    "2\n",
    "2\n",
    "```\n",
    "\n",
    "OUTPUT\n",
    "\n",
    "```python\n",
    "[[0, 0, 0], [0, 0, 1], [0, 1, 0], [0, 1, 2], [0, 2, 1], [0, 2, 2], [1, 0, 0], [1, 0, 2], [1, 1, 1], [1, 1, 2], [1, 2, 0], [1, 2, 1], [1, 2, 2], [2, 0, 1], [2, 0, 2], [2, 1, 0], [2, 1, 1], [2, 1, 2], [2, 2, 0], [2, 2, 1], [2, 2, 2]]\n",
    "```"
   ]
  },
  {
   "cell_type": "markdown",
   "metadata": {},
   "source": [
    "## Solution"
   ]
  },
  {
   "cell_type": "code",
   "execution_count": 1,
   "metadata": {},
   "outputs": [
    {
     "name": "stdout",
     "output_type": "stream",
     "text": [
      "1\n",
      "1\n",
      "1\n",
      "1\n"
     ]
    }
   ],
   "source": [
    "x = int(input())\n",
    "y = int(input())\n",
    "z = int(input())\n",
    "n = int(input())"
   ]
  }
 ],
 "metadata": {
  "kernelspec": {
   "display_name": "Python 3",
   "language": "python",
   "name": "python3"
  },
  "language_info": {
   "codemirror_mode": {
    "name": "ipython",
    "version": 3
   },
   "file_extension": ".py",
   "mimetype": "text/x-python",
   "name": "python",
   "nbconvert_exporter": "python",
   "pygments_lexer": "ipython3",
   "version": "3.6.10"
  }
 },
 "nbformat": 4,
 "nbformat_minor": 4
}
